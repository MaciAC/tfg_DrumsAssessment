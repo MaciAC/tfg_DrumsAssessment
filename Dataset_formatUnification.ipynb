{
 "cells": [
  {
   "cell_type": "markdown",
   "metadata": {},
   "source": [
    "### This notebook is intended to show how the datasets are modified to unify the format\n",
    "\n",
    "# MDBDrums dataset\n",
    "\n",
    "from : https://github.com/CarlSouthall/MDBDrums/\n",
    "\n",
    "In order to use the data directly from the repo, it is needed to covert the filenames to urls"
   ]
  },
  {
   "cell_type": "code",
   "execution_count": 1,
   "metadata": {},
   "outputs": [],
   "source": [
    "from github import Github\n",
    "from scripts.utils import MusicDelta_filenameList_to_urlList\n",
    "import urllib\n",
    "\n",
    "# token has to be changed by every user, you can get it from gitHub website -> configuration -> developer settings...\n",
    "g = Github(\"dace30506f12d6c77a91775fc1095469550d7846\")\n",
    "\n",
    "# repo info\n",
    "repo = g.get_repo(\"CarlSouthall/MDBDrums\")\n",
    "repo_url = \"https://raw.githubusercontent.com/CarlSouthall/MDBDrums/master/\"\n"
   ]
  },
  {
   "cell_type": "code",
   "execution_count": 2,
   "metadata": {},
   "outputs": [],
   "source": [
    "contents = repo.get_contents(\"\")\n",
    "drum_files = []\n",
    "annotation_files = []\n",
    "\n",
    "while contents:\n",
    "    file_content = contents.pop(0)\n",
    "    if file_content.type == \"dir\":\n",
    "        contents.extend(repo.get_contents(file_content.path))\n",
    "    elif \"drum_only\" in file_content.path:\n",
    "        drum_files.append(file_content.path)\n",
    "    elif \"annotations/class\" in file_content.path:\n",
    "        annotation_files.append(file_content.path)\n",
    "\n",
    "        \n",
    "MusicDelta_filenameList_to_urlList('data/MDB-Drums/drum_files.txt', drum_files, repo_url)\n",
    "MusicDelta_filenameList_to_urlList('data/MDB-Drums/annotation_files.txt', annotation_files, repo_url)"
   ]
  },
  {
   "cell_type": "markdown",
   "metadata": {},
   "source": [
    "# IDMT-SMT-DRUMS-V2 Dataset\n",
    "\n",
    "from: https://www.idmt.fraunhofer.de/en/business_units/m2d/smt/drums.html\n",
    "\n",
    "This dataset is only avaible via download, can be foun in this repo.\n",
    "\n",
    "In order to adapt the annotations to the MDBDrums ones, it is needed to rewrite the .xml files to .txt format, keeping the formating of MDBDrums dataset"
   ]
  },
  {
   "cell_type": "code",
   "execution_count": 1,
   "metadata": {},
   "outputs": [],
   "source": [
    "import xmltodict\n",
    "import os\n",
    "from scripts.utils import get_files_in_dir \n",
    "\n",
    "database_dir = 'data/IDMT-SMT-DRUMS-V2/'\n",
    "txt_anotation_dir = os.path.join(database_dir, 'annotation_txt/')\n",
    "xml_annotation_dir = os.path.join(database_dir, 'annotation_xml/')\n",
    "\n",
    "xml_files = get_files_in_dir(xml_annotation_dir)"
   ]
  },
  {
   "cell_type": "code",
   "execution_count": 2,
   "metadata": {},
   "outputs": [],
   "source": [
    "if not os.path.exists(txt_anotation_dir):\n",
    "        os.mkdir(txt_anotation_dir)\n",
    "\n",
    "\n",
    "for file_path in xml_files:\n",
    "    txt_file_path = txt_anotation_dir + (file_path[:-3] + 'txt').split('/')[-1]\n",
    "    with open(file_path) as fd:\n",
    "        new_file = open(txt_file_path, 'w')\n",
    "        doc = xmltodict.parse(fd.read())\n",
    "        for event in doc['instrumentRecording']['transcription']['event']:\n",
    "            new_file.write(str(event['onsetSec'])[:7] + '\\t\\t' + str(event['instrument']) + '\\n')\n",
    "        new_file.close()\n",
    "    fd.close()    \n",
    "        "
   ]
  },
  {
   "cell_type": "markdown",
   "metadata": {},
   "source": [
    "# MusicSchool jsonDataset\n",
    "\n",
    "In order to adapt the annotations to the MDBDrums ones, it is needed to rewrite the .json to .txt format with timesteps instead of musical notation, keeping the formating of MDBDrums dataset to reuse the audio processing functions\n"
   ]
  },
  {
   "cell_type": "code",
   "execution_count": 13,
   "metadata": {},
   "outputs": [
    {
     "name": "stdout",
     "output_type": "stream",
     "text": [
      "data/Test_student/test_ex1_100.txt\n",
      "data/Test_student/test_ex1_140.txt\n",
      "data/Test_student/test_ex1_180.txt\n",
      "data/Test_student/test_ex1_220.txt\n",
      "data/Test_student/test_ex1_60.txt\n",
      "data/Test_student/test_ex2_100.txt\n",
      "data/Test_student/test_ex2_60.txt\n"
     ]
    }
   ],
   "source": [
    "from scripts.drums import *\n",
    "import json\n",
    "from scripts.utils import get_files_in_dir \n",
    "notes_dict = {\n",
    "    'F4':'KD',\n",
    "    'B4':'impro',\n",
    "    'A4':'FT',\n",
    "    'C5':'SD',\n",
    "    'D5':'MT',\n",
    "    'E5':'HT',\n",
    "    'F5':'CR',\n",
    "    'G5':'HH',\n",
    "    'A5':'CY',\n",
    "    'X':'REST',\n",
    "    'Y':'note',\n",
    "    'N':'diff'\n",
    "}\n",
    "folder = \"data/Test_student\"\n",
    "json_files = get_files_in_dir(folder)\n",
    "#json_files = ['data/routine.json']\n",
    "txt_folder = \"data/Test_student/\"\n",
    "\n",
    "for file in json_files:\n",
    "    txt_file_path = txt_folder + (file[:-4] + 'txt').split('/')[-1]\n",
    "    print(txt_file_path)\n",
    "    with open(file) as f:\n",
    "        annotations = json.load(f)\n",
    "\n",
    "    notes, timesteps, beats = get_time_steps_from_annotations(annotations)\n",
    "    new_file = open(txt_file_path, 'w')\n",
    "    for i, item in enumerate(notes):\n",
    "        var = item.split('.')\n",
    "        new = notes_dict[var[0]]\n",
    "        if len(var)>1:\n",
    "            for j in range(len(var)-1):\n",
    "                new = new + '+' + notes_dict[var[j+1]]\n",
    "                \n",
    "        new_file.write(str(timesteps[i])[:7] +'\\t\\t' + new + '\\n')\n",
    "    new_file.close()\n",
    "    f.close()\n",
    "    "
   ]
  },
  {
   "cell_type": "code",
   "execution_count": 8,
   "metadata": {},
   "outputs": [
    {
     "data": {
      "text/plain": [
       "array([ 0. ,  0.2,  0.4,  0.6,  0.8,  1. ,  1.2,  1.4,  1.6,  1.8,  2. ,\n",
       "        2.2,  2.4,  2.6,  2.8,  3. ,  3.2,  3.4,  3.6,  3.8,  4. ,  4.2,\n",
       "        4.4,  4.6,  4.8,  5. ,  5.2,  5.4,  5.6,  5.8,  6. ,  6.2,  6.4,\n",
       "        6.6,  6.8,  7. ,  7.2,  7.4,  7.6,  7.8,  8. ,  8.2,  8.4,  8.6,\n",
       "        8.8,  9. ,  9.2,  9.4,  9.6,  9.8, 10. , 10.2, 10.4, 10.6, 10.8,\n",
       "       11. , 11.2, 11.4, 11.6, 11.8, 12. , 12.2, 12.4, 12.6, 12.8, 13. ,\n",
       "       13.2, 13.4, 13.6, 13.8, 14. , 14.2, 14.4, 14.6, 14.8, 15. , 15.2,\n",
       "       15.4, 15.6, 15.8, 16. , 16.2, 16.4, 16.6, 16.8, 17. , 17.2, 17.4,\n",
       "       17.6, 17.8, 18. , 18.2, 18.4, 18.6, 18.8, 19. , 19.2, 19.4, 19.6,\n",
       "       19.8, 20. , 20.2, 20.4, 20.6, 20.8, 21. , 21.2, 21.4, 21.6, 21.8,\n",
       "       22. , 22.2, 22.4, 22.6, 22.8, 23. , 23.2, 23.4, 23.6, 23.8, 24. ,\n",
       "       24.2, 24.4, 24.6, 24.8, 25. , 25.2, 25.4, 25.6, 25.8, 26. , 26.2,\n",
       "       26.4, 26.6, 26.8, 27. , 27.2, 27.4, 27.6, 27.8, 28. , 28.2, 28.4,\n",
       "       28.6, 28.8, 29. , 29.2, 29.4, 29.6, 29.8])"
      ]
     },
     "execution_count": 8,
     "metadata": {},
     "output_type": "execute_result"
    }
   ],
   "source": [
    "import numpy as np\n",
    "np.arange(0,30,60/300)"
   ]
  },
  {
   "cell_type": "code",
   "execution_count": 3,
   "metadata": {},
   "outputs": [
    {
     "data": {
      "text/plain": [
       "50"
      ]
     },
     "execution_count": 3,
     "metadata": {},
     "output_type": "execute_result"
    }
   ],
   "source": [
    "len(np.arange(0,30,60/100))"
   ]
  },
  {
   "cell_type": "code",
   "execution_count": null,
   "metadata": {},
   "outputs": [],
   "source": []
  }
 ],
 "metadata": {
  "kernelspec": {
   "display_name": "tfg_venv",
   "language": "python",
   "name": "tfg_venv"
  },
  "language_info": {
   "codemirror_mode": {
    "name": "ipython",
    "version": 3
   },
   "file_extension": ".py",
   "mimetype": "text/x-python",
   "name": "python",
   "nbconvert_exporter": "python",
   "pygments_lexer": "ipython3",
   "version": "3.6.8"
  },
  "varInspector": {
   "cols": {
    "lenName": 16,
    "lenType": 16,
    "lenVar": 40
   },
   "kernels_config": {
    "python": {
     "delete_cmd_postfix": "",
     "delete_cmd_prefix": "del ",
     "library": "var_list.py",
     "varRefreshCmd": "print(var_dic_list())"
    },
    "r": {
     "delete_cmd_postfix": ") ",
     "delete_cmd_prefix": "rm(",
     "library": "var_list.r",
     "varRefreshCmd": "cat(var_dic_list()) "
    }
   },
   "types_to_exclude": [
    "module",
    "function",
    "builtin_function_or_method",
    "instance",
    "_Feature"
   ],
   "window_display": false
  }
 },
 "nbformat": 4,
 "nbformat_minor": 4
}
